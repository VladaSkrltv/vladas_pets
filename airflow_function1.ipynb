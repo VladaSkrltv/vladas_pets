{
 "cells": [
  {
   "cell_type": "code",
   "execution_count": 1,
   "metadata": {},
   "outputs": [
    {
     "name": "stderr",
     "output_type": "stream",
     "text": [
      "Reading the config from /mnt/HC_Volume_18315164/home-jupyter/jupyter-v-skurlatova-33/airflow/airflow.cfg\n",
      "Configured default timezone Timezone('UTC')\n"
     ]
    }
   ],
   "source": [
    "import requests\n",
    "import pandas as pd\n",
    "import numpy as np\n",
    "from datetime import timedelta\n",
    "from datetime import datetime\n",
    "from airflow import DAG\n",
    "from airflow.operators.python import PythonOperator\n"
   ]
  },
  {
   "cell_type": "markdown",
   "metadata": {},
   "source": [
    "- Найти топ-10 доменных зон по численности доменов.\n",
    "- Найти домен с самым длинным именем (если их несколько, то взять только первый в алфавитном порядке).\n",
    "- На каком месте находится домен airflow.com?"
   ]
  },
  {
   "cell_type": "code",
   "execution_count": 2,
   "metadata": {},
   "outputs": [
    {
     "data": {
      "text/plain": [
       "<Task(PythonOperator): print_data>"
      ]
     },
     "execution_count": 2,
     "metadata": {},
     "output_type": "execute_result"
    }
   ],
   "source": [
    "\n",
    "TOP_1M_DOMAINS = 'http://s3.amazonaws.com/alexa-static/top-1m.csv.zip'\n",
    "TOP_1M_DOMAINS_FILE = 'top-1m.csv'\n",
    "\n",
    "\n",
    "def get_data():\n",
    "    top_doms = pd.read_csv(TOP_1M_DOMAINS)\n",
    "    top_data = top_doms.to_csv(index=False)\n",
    "\n",
    "    with open(TOP_1M_DOMAINS_FILE, 'w') as f:\n",
    "        f.write(top_data)\n",
    "\n",
    "def get_top():\n",
    "    top_data_df = pd.read_csv(TOP_1M_DOMAINS_FILE, names=['domain'])\n",
    "    top_data_df['domain']= top_data_df.domain.apply(lambda x:x.split('.')[-1])\n",
    "    top_data_df= top_data_df.value_counts().to_frame().reset_index()\n",
    "    top_data_df=top_data_df['domain'].to_frame()\n",
    "    top_data_df=top_data_df.head(10)\n",
    "    with open('top_data_df.csv', 'w') as f:\n",
    "        f.write(top_data_df.to_csv(index=False, header=False))\n",
    "                                       \n",
    "def get_longest_name():\n",
    "    longest_name = pd.read_csv(TOP_1M_DOMAINS_FILE, names=['domain']) \n",
    "    lengths = longest_name['domain'].str.len()\n",
    "    argmax = np.where(lengths == lengths.max())[0]\n",
    "    longest_domain=longest_name.iloc[argmax].sort_values('domain') \n",
    "    longest_domain=longest_domain.head(1)\n",
    "    with open('longest_domain.csv', 'w') as f:\n",
    "        f.write(longest_domain.to_csv(index=False, header=False ))     \n",
    " \n",
    "\n",
    "def find_rank():\n",
    "    airflow_rank = pd.read_csv(TOP_1M_DOMAINS_FILE, names=['rank','domain'])\n",
    "    airflow_rank = airflow_rank.query('domain== \"airflow.com\"')\n",
    "    rank = airflow_rank['rank']\n",
    "    rank = rank.to_frame()\n",
    "    with open('rank.csv', 'w') as f:\n",
    "        f.write(rank.to_csv(index=False, header=False ))  \n",
    "                                       \n",
    "\n",
    "def print_data(ds):\n",
    "    with open('top_data_df.csv', 'r') as f:\n",
    "        top_domain_ex = f.read()\n",
    "    with open('longest_domain.csv', 'r') as f:\n",
    "        longest = f.read()\n",
    "    with open('rank.csv', 'r') as f:\n",
    "        airflow_r = f.read()    \n",
    "    date = ds\n",
    "\n",
    "    print(f'Top 10 domain extensions for date {date}')\n",
    "    print(top_domain_ex)\n",
    "\n",
    "    print(f'The longest domain for date {date}')\n",
    "    print(longest)\n",
    "    \n",
    "    print(f'The rank of \"airflow.com\" domain for date {date}')\n",
    "    print(airflow_r)\n",
    "\n",
    "\n",
    "\n",
    "default_args = {\n",
    "    'owner': 'v.skurlatova',\n",
    "    'depends_on_past': False,\n",
    "    'retries': 2,\n",
    "    'retry_delay': timedelta(minutes=5),\n",
    "    'start_date': datetime(2023, 4, 13),\n",
    "}\n",
    "schedule_interval = '30 14 * * *'\n",
    "\n",
    "dag = DAG('v-skurlatova-33', default_args=default_args, schedule_interval=schedule_interval)\n",
    "\n",
    "t1 = PythonOperator(task_id='get_data',\n",
    "                    python_callable=get_data,\n",
    "                    dag=dag)\n",
    "\n",
    "t2 = PythonOperator(task_id='get_top',\n",
    "                    python_callable=get_top,\n",
    "                    dag=dag)\n",
    "\n",
    "t2_x = PythonOperator(task_id='get_longest_name',\n",
    "                        python_callable=get_longest_name,\n",
    "                        dag=dag)\n",
    "\n",
    "t2_xy = PythonOperator(task_id='find_rank',\n",
    "                        python_callable=find_rank,\n",
    "                        dag=dag)\n",
    "\n",
    "t3= PythonOperator(task_id='print_data',\n",
    "                    python_callable=print_data,\n",
    "                    dag=dag)\n",
    "\n",
    "t1 >> [t2, t2_x,t2_xy] >> t3"
   ]
  }
 ],
 "metadata": {
  "kernelspec": {
   "display_name": "Python 3 (ipykernel)",
   "language": "python",
   "name": "python3"
  },
  "language_info": {
   "codemirror_mode": {
    "name": "ipython",
    "version": 3
   },
   "file_extension": ".py",
   "mimetype": "text/x-python",
   "name": "python",
   "nbconvert_exporter": "python",
   "pygments_lexer": "ipython3",
   "version": "3.7.3"
  }
 },
 "nbformat": 4,
 "nbformat_minor": 4
}
